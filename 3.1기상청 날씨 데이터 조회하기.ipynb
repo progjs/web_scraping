{
 "cells": [
  {
   "cell_type": "markdown",
   "metadata": {},
   "source": [
    "### 기상청 날씨 데이터 조회\n",
    "* rss: 여러 언론사 사이트를 모두 방문할 필요 없이 다양한 기사를 네이버뉴스 한 곳에서 볼 수 있는 것과 같다고 보면 된다.\n",
    "* title이 많아서 구분하여 조회한다.\n"
   ]
  },
  {
   "cell_type": "code",
   "execution_count": 1,
   "metadata": {},
   "outputs": [
    {
     "name": "stdout",
     "output_type": "stream",
     "text": [
      "기상청 육상 중기예보\n",
      "전국 육상 중기예보 - 2020년 07월 24일 (금)요일 06:00 발표\n",
      "전국 육상중기예보\n"
     ]
    }
   ],
   "source": [
    "import requests\n",
    "from bs4 import BeautifulSoup\n",
    "\n",
    "url = \"http://www.kma.go.kr/weather/forecast/mid-term-rss3.jsp\"\n",
    "\n",
    "res = requests.get(url)\n",
    "html = res.text\n",
    "soup = BeautifulSoup(html, 'html.parser')\n",
    "\n",
    "# title가져오기\n",
    "# print(soup.find('title').text)\n",
    "# print(soup.find_all('title'))\n",
    "for title in soup.find_all('title'):\n",
    "    print(title.text)\n",
    "\n",
    "# print(soup.find('header').find_all('wf'))\n"
   ]
  },
  {
   "cell_type": "markdown",
   "metadata": {},
   "source": [
    "#### wf 가져오기"
   ]
  },
  {
   "cell_type": "code",
   "execution_count": 2,
   "metadata": {},
   "outputs": [
    {
     "name": "stdout",
     "output_type": "stream",
     "text": [
      "○ (강수) 27일(월) 오전에 충남와 전라도, 제주에 비가 시작되어 오후부터 29일(수)까지 전국에 비가 오겠고, <br />          30일(목)은 중부지방(강원영동 제외)에, 8월 1일(토)~3일(월)은 서울.경기도와 강원영서에 비가 오겠습니다.<br />○ (기온) 이번 예보기간의 낮 기온은 25~33도로 어제(22~25도)보다 높겠고, 30일(목)부터는 남부지방을 중심으로 낮 기온이 30~33도의 분포로 덥겠습니다.<br /><br />* 이번 예보기간 중 27일(월)~30일(목)은 정체전선의 위치와 저기압의 이동경로에 따라 강수시점과 집중되는 지역이 변경될 가능성이 있으니, 앞으로 발표되는 기상정보를 참고하기 바랍니다.\n"
     ]
    }
   ],
   "source": [
    "\n",
    "for tag in soup.find_all('header'):\n",
    "    print(tag.find('wf').string)"
   ]
  },
  {
   "cell_type": "markdown",
   "metadata": {},
   "source": [
    "#### province 가져오기"
   ]
  },
  {
   "cell_type": "code",
   "execution_count": 3,
   "metadata": {},
   "outputs": [
    {
     "name": "stdout",
     "output_type": "stream",
     "text": [
      "서울ㆍ인천ㆍ경기도 서울\n"
     ]
    }
   ],
   "source": [
    "\n",
    "# <location wl_ver=\"3\">\n",
    "# soup.find('location').find('province').text\n",
    "title = soup.find('location', attrs={\"wl_ver\":\"3\"}).find('province').text\n",
    "city = soup.find('location', attrs={\"wl_ver\":\"3\"}).find('city').text\n",
    "print(title, city)"
   ]
  },
  {
   "cell_type": "markdown",
   "metadata": {},
   "source": [
    "#### province > data 가져오기\n",
    "* 1개의 data는 dict에 저장하고, dict를 list에 저장한다.\n",
    "* 리스트를 출력한다."
   ]
  },
  {
   "cell_type": "code",
   "execution_count": 4,
   "metadata": {},
   "outputs": [
    {
     "name": "stdout",
     "output_type": "stream",
     "text": [
      "13\n"
     ]
    },
    {
     "data": {
      "text/plain": [
       "[{'mode': 'A02', 'wf': '흐림', 'tmn': '22', 'tmx': '27'},\n",
       " {'mode': 'A02', 'wf': '흐리고 비', 'tmn': '22', 'tmx': '27'},\n",
       " {'mode': 'A02', 'wf': '흐리고 비', 'tmn': '22', 'tmx': '28'},\n",
       " {'mode': 'A02', 'wf': '흐리고 비', 'tmn': '22', 'tmx': '28'},\n",
       " {'mode': 'A02', 'wf': '흐리고 비', 'tmn': '23', 'tmx': '29'},\n",
       " {'mode': 'A02', 'wf': '흐리고 비', 'tmn': '23', 'tmx': '29'},\n",
       " {'mode': 'A02', 'wf': '흐리고 비', 'tmn': '23', 'tmx': '30'},\n",
       " {'mode': 'A02', 'wf': '흐리고 비', 'tmn': '23', 'tmx': '30'},\n",
       " {'mode': 'A02', 'wf': '흐림', 'tmn': '23', 'tmx': '29'},\n",
       " {'mode': 'A02', 'wf': '흐림', 'tmn': '23', 'tmx': '29'},\n",
       " {'mode': 'A01', 'wf': '흐리고 비', 'tmn': '23', 'tmx': '28'},\n",
       " {'mode': 'A01', 'wf': '흐리고 비', 'tmn': '23', 'tmx': '29'},\n",
       " {'mode': 'A01', 'wf': '흐리고 비', 'tmn': '23', 'tmx': '29'}]"
      ]
     },
     "execution_count": 4,
     "metadata": {},
     "output_type": "execute_result"
    }
   ],
   "source": [
    "\n",
    "data_tags = soup.find('location', attrs={\"wl_ver\":\"3\"}).find_all('data')\n",
    "print(len(data_tags))\n",
    "\n",
    "data_list = []\n",
    "for data in data_tags:\n",
    "    data_dict = {}\n",
    "    data_dict['mode'] = data.find('mode').text\n",
    "    data_dict['wf'] = data.find('wf').text\n",
    "    data_dict['tmn'] = data.find('tmn').text\n",
    "    data_dict['tmx'] = data.find('tmx').text\n",
    "    data_list.append(data_dict)\n",
    "    \n",
    "data_list"
   ]
  },
  {
   "cell_type": "markdown",
   "metadata": {},
   "source": []
  }
 ],
 "metadata": {
  "kernelspec": {
   "display_name": "Python 3",
   "language": "python",
   "name": "python3"
  },
  "language_info": {
   "codemirror_mode": {
    "name": "ipython",
    "version": 3
   },
   "file_extension": ".py",
   "mimetype": "text/x-python",
   "name": "python",
   "nbconvert_exporter": "python",
   "pygments_lexer": "ipython3",
   "version": "3.7.0"
  }
 },
 "nbformat": 4,
 "nbformat_minor": 2
}
