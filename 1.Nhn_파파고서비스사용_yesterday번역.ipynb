{
 "cells": [
  {
   "cell_type": "markdown",
   "metadata": {},
   "source": [
    "#### data/yesterday.txt 번역\n",
    "1. yesterday.txt 파일 읽기\n",
    "2. requests로 http 통신\n",
    "3. 번역된 결과를 파일에 쓰기"
   ]
  },
  {
   "cell_type": "code",
   "execution_count": 1,
   "metadata": {},
   "outputs": [
    {
     "name": "stdout",
     "output_type": "stream",
     "text": [
      "번역 종료\n"
     ]
    }
   ],
   "source": [
    "from requests import Request, Session\n",
    "\n",
    "# yesterday.txt 파일 읽기\n",
    "def get_text_list():\n",
    "    result_list = []\n",
    "    with open('data/yesterday.txt','r',encoding='utf8') as file:\n",
    "        contents = file.read()\n",
    "        result_list = contents.split('\\n')\n",
    "    return result_list\n",
    "\n",
    "# 번역된 결과를 파일에 쓰기\n",
    "def save_to_file(lst):\n",
    "    with open('data/yesterday_trans.txt', 'w',encoding='utf8') as file:\n",
    "        file.writelines(lst)\n",
    "        #pickle.dump(lst, file) : binary file만 가능\n",
    "        \n",
    "# requests 로 http 통신\n",
    "def main():\n",
    "    # session 객체 생성\n",
    "    session = Session() \n",
    "    # 번역서비스에 여러번 request해야 하므로 session을 생성해서 send message를 저장해두고 반복사용하는 것이 용이\n",
    "    \n",
    "    client_id = \"\"\n",
    "    client_secret = \"\"\n",
    "    url = \"https://openapi.naver.com/v1/papago/n2mt\"\n",
    "    encText = \"Yesterday all my troubles seemed so far away.\"\n",
    "\n",
    "    req_headers = {\n",
    "        \"X-Naver-Client-Id\": client_id,\n",
    "        \"X-Naver-Client-Secret\": client_secret\n",
    "    }\n",
    "    \n",
    "    lyric_list = get_text_list()\n",
    "    # list comprehension\n",
    "    lyric_list = [lyric for lyric in lyric_list[::] if lyric]\n",
    "    # print(lyric_list, len(lyric_list))\n",
    "    \n",
    "    trans_list = []\n",
    "    for en_text in lyric_list:\n",
    "        params = {\n",
    "            \"source\":\"en\",\n",
    "            'target':'ko',\n",
    "            'text':en_text\n",
    "        }\n",
    "        req = Request('POST', url, data=params, headers=req_headers)\n",
    "        prepared = req.prepare()\n",
    "        res = session.send(prepared)\n",
    "        \n",
    "        try:\n",
    "            ko_text = res.json()['message']['result']['translatedText']\n",
    "        except Exception as err:\n",
    "            print(err)\n",
    "        else:\n",
    "            trans_list.append(en_text+'\\n'+ko_text+'\\n')\n",
    "            \n",
    "    save_to_file(trans_list)\n",
    "    print('번역 종료')\n",
    "\n",
    "main()"
   ]
  },
  {
   "cell_type": "code",
   "execution_count": null,
   "metadata": {},
   "outputs": [],
   "source": []
  },
  {
   "cell_type": "code",
   "execution_count": null,
   "metadata": {},
   "outputs": [],
   "source": []
  },
  {
   "cell_type": "code",
   "execution_count": null,
   "metadata": {},
   "outputs": [],
   "source": []
  }
 ],
 "metadata": {
  "kernelspec": {
   "display_name": "Python 3",
   "language": "python",
   "name": "python3"
  },
  "language_info": {
   "codemirror_mode": {
    "name": "ipython",
    "version": 3
   },
   "file_extension": ".py",
   "mimetype": "text/x-python",
   "name": "python",
   "nbconvert_exporter": "python",
   "pygments_lexer": "ipython3",
   "version": "3.7.8"
  }
 },
 "nbformat": 4,
 "nbformat_minor": 2
}
