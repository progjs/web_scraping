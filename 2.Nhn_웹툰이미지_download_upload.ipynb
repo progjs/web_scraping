{
 "cells": [
  {
   "cell_type": "markdown",
   "metadata": {},
   "source": [
    "### 1.네이버 웹툰 이미지 다운로드\n",
    "* Referer라는 header 값에 url을 설정한다.\n",
    "* 특정 image url을 list에 저장한다.\n",
    "* requests 의 get() 함수로 image를 요청한다.\n",
    "* response.content 라는 property를 사용한다.\n",
    "* local file 로 저장한다."
   ]
  },
  {
   "cell_type": "code",
   "execution_count": 1,
   "metadata": {},
   "outputs": [
    {
     "name": "stdout",
     "output_type": "stream",
     "text": [
      "Writing to 20200615154416_3d82705810d8008189ec3997c499ef1a_IMAG01_5.jpg (125982 bytes)\n",
      "Writing to 20200615154416_3d82705810d8008189ec3997c499ef1a_IMAG01_6.jpg (130097 bytes)\n",
      "Writing to 20200615154416_3d82705810d8008189ec3997c499ef1a_IMAG01_53.jpg (125071 bytes)\n"
     ]
    }
   ],
   "source": [
    "import requests\n",
    "import os\n",
    "\n",
    "req_header = {\n",
    "    'referer': 'https://comic.naver.com/webtoon/detail.nhn?titleId=703852&no=106&weekday=tue'   \n",
    "}\n",
    "img_urls = [\n",
    "    'https://image-comic.pstatic.net/webtoon/703852/106/20200615154416_3d82705810d8008189ec3997c499ef1a_IMAG01_5.jpg',\n",
    "    'https://image-comic.pstatic.net/webtoon/703852/106/20200615154416_3d82705810d8008189ec3997c499ef1a_IMAG01_6.jpg',\n",
    "    'https://image-comic.pstatic.net/webtoon/703852/106/20200615154416_3d82705810d8008189ec3997c499ef1a_IMAG01_53.jpg'\n",
    "]\n",
    "\n",
    "for img_url in img_urls:\n",
    "    res = requests.get(img_url, headers=req_header) \n",
    "    # header를 안주면 어떤 url의 image인지 모르니까 안된다!\n",
    "\n",
    "#     print(res.content) # binary data\n",
    "#     print(res.ok) ## status_code가 200이상 400미만의 값인지 여부\n",
    "    img_data = res.content\n",
    "    file_name = os.path.basename(img_url) # 파일명만 추출\n",
    "#     print(file_name)\n",
    "    with open(file_name, 'wb') as file:\n",
    "        print('Writing to {} ({} bytes)'.format(file_name, len(img_data)))\n",
    "        file.write(img_data)\n",
    "        "
   ]
  },
  {
   "cell_type": "markdown",
   "metadata": {},
   "source": [
    "### 2. 웹툰 이미지 업로드\n",
    "* http://httpbin.org/post 사이트에 다운받은 img 파일 3개를 업로드\n",
    "* requests의 post() 함수를 사용하고 files 속성에 image data를 지정한다"
   ]
  },
  {
   "cell_type": "code",
   "execution_count": 2,
   "metadata": {},
   "outputs": [
    {
     "ename": "FileNotFoundError",
     "evalue": "[Errno 2] No such file or directory: 'f1.jpg'",
     "output_type": "error",
     "traceback": [
      "\u001b[1;31m---------------------------------------------------------------------------\u001b[0m",
      "\u001b[1;31mFileNotFoundError\u001b[0m                         Traceback (most recent call last)",
      "\u001b[1;32m<ipython-input-2-eb1a36cf0b5e>\u001b[0m in \u001b[0;36m<module>\u001b[1;34m()\u001b[0m\n\u001b[0;32m      2\u001b[0m \u001b[1;33m\u001b[0m\u001b[0m\n\u001b[0;32m      3\u001b[0m upload_files_dict = {\n\u001b[1;32m----> 4\u001b[1;33m     \u001b[1;34m'img1'\u001b[0m\u001b[1;33m:\u001b[0m \u001b[0mopen\u001b[0m\u001b[1;33m(\u001b[0m\u001b[1;34m'f1.jpg'\u001b[0m\u001b[1;33m,\u001b[0m \u001b[1;34m'rb'\u001b[0m\u001b[1;33m)\u001b[0m\u001b[1;33m,\u001b[0m\u001b[1;33m\u001b[0m\u001b[0m\n\u001b[0m\u001b[0;32m      5\u001b[0m     \u001b[1;34m'img2'\u001b[0m\u001b[1;33m:\u001b[0m \u001b[0mopen\u001b[0m\u001b[1;33m(\u001b[0m\u001b[1;34m'f2.jpg'\u001b[0m\u001b[1;33m,\u001b[0m \u001b[1;34m'rb'\u001b[0m\u001b[1;33m)\u001b[0m\u001b[1;33m,\u001b[0m\u001b[1;33m\u001b[0m\u001b[0m\n\u001b[0;32m      6\u001b[0m     \u001b[1;34m'img3'\u001b[0m\u001b[1;33m:\u001b[0m \u001b[0mopen\u001b[0m\u001b[1;33m(\u001b[0m\u001b[1;34m'f3.jpg'\u001b[0m\u001b[1;33m,\u001b[0m \u001b[1;34m'rb'\u001b[0m\u001b[1;33m)\u001b[0m\u001b[1;33m,\u001b[0m\u001b[1;33m\u001b[0m\u001b[0m\n",
      "\u001b[1;31mFileNotFoundError\u001b[0m: [Errno 2] No such file or directory: 'f1.jpg'"
     ]
    }
   ],
   "source": [
    "import requests\n",
    "\n",
    "upload_files_dict = {\n",
    "    'img1': open('f1.jpg', 'rb'),\n",
    "    'img2': open('f2.jpg', 'rb'),\n",
    "    'img3': open('f3.jpg', 'rb'),\n",
    "}\n",
    "# upload_files_dict # bufferedReader 라는 객체에 저장\n",
    "url = 'http://httpbin.org/post'\n",
    "res = requests.post(url, files=upload_files_dict)\n",
    "res.status_code"
   ]
  },
  {
   "cell_type": "code",
   "execution_count": null,
   "metadata": {},
   "outputs": [],
   "source": [
    "img1 = res.json()['files']['img1']\n",
    "# img1 # .html img tag에 src 속성에 추가하고 해당 .html 파일을 브라우저로 실행하면 imaga를 볼 수 있다."
   ]
  },
  {
   "cell_type": "markdown",
   "metadata": {},
   "source": []
  },
  {
   "cell_type": "code",
   "execution_count": null,
   "metadata": {},
   "outputs": [],
   "source": []
  }
 ],
 "metadata": {
  "kernelspec": {
   "display_name": "Python 3",
   "language": "python",
   "name": "python3"
  },
  "language_info": {
   "codemirror_mode": {
    "name": "ipython",
    "version": 3
   },
   "file_extension": ".py",
   "mimetype": "text/x-python",
   "name": "python",
   "nbconvert_exporter": "python",
   "pygments_lexer": "ipython3",
   "version": "3.7.0"
  }
 },
 "nbformat": 4,
 "nbformat_minor": 2
}
