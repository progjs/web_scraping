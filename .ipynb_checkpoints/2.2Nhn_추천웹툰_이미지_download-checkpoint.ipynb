{
 "cells": [
  {
   "cell_type": "markdown",
   "metadata": {},
   "source": [
    "### 웹툰 메인페이지 스크래핑\n",
    "* 추천 웹툰의 title과 link를 가져오기\n",
    "* {title: '한림체육관', link:'https://comic.naver.com/webtoon/list.nhn?titleId=21815'}"
   ]
  },
  {
   "cell_type": "code",
   "execution_count": 9,
   "metadata": {},
   "outputs": [
    {
     "name": "stdout",
     "output_type": "stream",
     "text": [
      "6\n"
     ]
    },
    {
     "data": {
      "text/plain": [
       "[{'title': '내일',\n",
       "  'link': 'https://comic.naver.com/webtoon/list.nhn?titleId=695796'},\n",
       " {'title': '먹이',\n",
       "  'link': 'https://comic.naver.com/webtoon/list.nhn?titleId=724274'},\n",
       " {'title': '청춘 블라썸',\n",
       "  'link': 'https://comic.naver.com/webtoon/list.nhn?titleId=746834'},\n",
       " {'title': '신상 미스터리 극장',\n",
       "  'link': 'https://comic.naver.com/webtoon/list.nhn?titleId=740377'},\n",
       " {'title': '후덜덜덜 남극전자',\n",
       "  'link': 'https://comic.naver.com/webtoon/list.nhn?titleId=732036'},\n",
       " {'title': '살人스타그램',\n",
       "  'link': 'https://comic.naver.com/webtoon/list.nhn?titleId=726095'}]"
      ]
     },
     "execution_count": 9,
     "metadata": {},
     "output_type": "execute_result"
    }
   ],
   "source": [
    "from bs4 import BeautifulSoup\n",
    "import requests\n",
    "from urllib.parse import urljoin\n",
    "\n",
    "main_url = \"https://comic.naver.com/index.nhn\"\n",
    "res = requests.get(main_url)\n",
    "html = res.text\n",
    "soup = BeautifulSoup(html, 'html.parser')\n",
    "print(len(soup.select(\"#genreRecommand h6 a\")))\n",
    "\n",
    "webtoon_list = []\n",
    "for a_tag in soup.select(\"#genreRecommand h6 a\"):\n",
    "    title = a_tag.text.strip()\n",
    "    link = urljoin(main_url, a_tag['href'])\n",
    "    webtoon_dict = {'title':title, 'link':link}\n",
    "    webtoon_list.append(webtoon_dict)\n",
    "    \n",
    "webtoon_list"
   ]
  },
  {
   "cell_type": "code",
   "execution_count": 10,
   "metadata": {},
   "outputs": [
    {
     "data": {
      "text/plain": [
       "'\\na_tag_list = soup.select(\"#genreRecommand li .genreRecomImg2 a\")\\nimg_tag_list = soup.select(\\'#genreRecommand li .genreRecomImg2 img\\')\\nprint(len(img_tag_list))\\n\\nimg_dict = {}\\nfor idx in range(6):\\n    data = urljoin(main_url,a_tag_list[idx][\\'href\\'])\\n    key = img_tag_list[idx][\\'title\\']\\n    img_dict[key] = data\\n\\nimg_dict\\n'"
      ]
     },
     "execution_count": 10,
     "metadata": {},
     "output_type": "execute_result"
    }
   ],
   "source": [
    "'''\n",
    "a_tag_list = soup.select(\"#genreRecommand li .genreRecomImg2 a\")\n",
    "img_tag_list = soup.select('#genreRecommand li .genreRecomImg2 img')\n",
    "print(len(img_tag_list))\n",
    "\n",
    "img_dict = {}\n",
    "for idx in range(6):\n",
    "    data = urljoin(main_url,a_tag_list[idx]['href'])\n",
    "    key = img_tag_list[idx]['title']\n",
    "    img_dict[key] = data\n",
    "\n",
    "img_dict\n",
    "'''"
   ]
  },
  {
   "cell_type": "markdown",
   "metadata": {},
   "source": [
    "### 웹툰 특정화 이미지 directory에 저장\n",
    "* 웹툰의 특정화 링크를 list로 만든다\n",
    "* 웹툰 이미지를 download하는 함수 생성\n",
    "* 함수를 호출해서 6개의 추천웹툰의 image를 directory별로 저장"
   ]
  },
  {
   "cell_type": "markdown",
   "metadata": {},
   "source": [
    "#### 웹툰 image download 함수"
   ]
  },
  {
   "cell_type": "code",
   "execution_count": 11,
   "metadata": {},
   "outputs": [],
   "source": [
    "import requests\n",
    "from bs4 import BeautifulSoup\n",
    "import os\n",
    "\n",
    "def write_image(title, main_url):\n",
    "#     print(title, main_url)\n",
    "    \n",
    "    res = requests.get(main_url)\n",
    "    html = res.text\n",
    "\n",
    "    soup = BeautifulSoup(html, 'html.parser')\n",
    "    # soup\n",
    "\n",
    "    #aside > div:nth-child(6) > div > ol > li.rank01 > div.thumb6 > a > span : 이만화 독자들이 많이 본 만화 랭킹\n",
    "    #comic_view_area > div.wt_viewer > img : 웹툰에 해당하는 img\n",
    "    img_urls = []\n",
    "    for img_url in soup.select(\".wt_viewer img[src$='.jpg']\"):\n",
    "#         print(img_url)\n",
    "        img_urls.append(img_url['src'])\n",
    "\n",
    "    # print(len(img_urls), img_urls)\n",
    "\n",
    "    # 디렉토리 생성\n",
    "    dir_name = 'img/'+ title\n",
    "    if not os.path.isdir(dir_name):\n",
    "        os.mkdir(dir_name)\n",
    "\n",
    "    for idx, img_url in enumerate(img_urls):\n",
    "        req_header = {\n",
    "            'referer': main_url\n",
    "        }\n",
    "        res2 = requests.get(img_url, headers=req_header)\n",
    "        img_data = res2.content\n",
    "        file_name = title + str(idx) +'.jpg'\n",
    "\n",
    "        with open(dir_name+'/'+file_name, 'wb') as file:\n",
    "            print('Writing to {} ({} bytes)'.format(file_name, len(img_data)))\n",
    "            file.write(img_data)"
   ]
  },
  {
   "cell_type": "code",
   "execution_count": 12,
   "metadata": {},
   "outputs": [
    {
     "name": "stdout",
     "output_type": "stream",
     "text": [
      "Writing to 마음의소리0.jpg (150250 bytes)\n",
      "Writing to 마음의소리1.jpg (148647 bytes)\n",
      "Writing to 마음의소리2.jpg (107514 bytes)\n",
      "Writing to 마음의소리3.jpg (101797 bytes)\n",
      "Writing to 마음의소리4.jpg (163050 bytes)\n",
      "Writing to 마음의소리5.jpg (134504 bytes)\n",
      "Writing to 마음의소리6.jpg (100417 bytes)\n",
      "Writing to 마음의소리7.jpg (142715 bytes)\n",
      "Writing to 마음의소리8.jpg (144513 bytes)\n",
      "Writing to 마음의소리9.jpg (136698 bytes)\n",
      "Writing to 마음의소리10.jpg (189110 bytes)\n",
      "Writing to 마음의소리11.jpg (151724 bytes)\n",
      "Writing to 마음의소리12.jpg (90064 bytes)\n",
      "Writing to 마음의소리13.jpg (116455 bytes)\n",
      "Writing to 마음의소리14.jpg (131668 bytes)\n",
      "Writing to 마음의소리15.jpg (156437 bytes)\n",
      "Writing to 마음의소리16.jpg (130185 bytes)\n",
      "Writing to 마음의소리17.jpg (110595 bytes)\n",
      "Writing to 마음의소리18.jpg (99776 bytes)\n",
      "Writing to 마음의소리19.jpg (94265 bytes)\n",
      "Writing to 마음의소리20.jpg (104271 bytes)\n",
      "Writing to 마음의소리21.jpg (60918 bytes)\n"
     ]
    }
   ],
   "source": [
    "write_image('마음의소리', 'https://comic.naver.com/webtoon/detail.nhn?titleId=20853&no=1236')"
   ]
  },
  {
   "cell_type": "markdown",
   "metadata": {},
   "source": [
    "#### 메인페이지 추천 웹툰 제목, url 추출"
   ]
  },
  {
   "cell_type": "code",
   "execution_count": 13,
   "metadata": {},
   "outputs": [
    {
     "name": "stdout",
     "output_type": "stream",
     "text": [
      "6\n"
     ]
    },
    {
     "data": {
      "text/plain": [
       "[{'title': '패밀리 사이즈',\n",
       "  'link': 'https://comic.naver.com/webtoon/list.nhn?titleId=626906',\n",
       "  'detail_link': 'https://comic.naver.com/webtoon/detail.nhn?titleId=626906&no=603'},\n",
       " {'title': '독립일기',\n",
       "  'link': 'https://comic.naver.com/webtoon/list.nhn?titleId=748105',\n",
       "  'detail_link': 'https://comic.naver.com/webtoon/detail.nhn?titleId=748105&no=13'},\n",
       " {'title': '닥터앤닥터 육아일기',\n",
       "  'link': 'https://comic.naver.com/webtoon/list.nhn?titleId=732955',\n",
       "  'detail_link': 'https://comic.naver.com/webtoon/detail.nhn?titleId=732955&no=96'},\n",
       " {'title': '약한영웅',\n",
       "  'link': 'https://comic.naver.com/webtoon/list.nhn?titleId=710751',\n",
       "  'detail_link': 'https://comic.naver.com/webtoon/detail.nhn?titleId=710751&no=112'},\n",
       " {'title': '웅이는 배고파',\n",
       "  'link': 'https://comic.naver.com/webtoon/list.nhn?titleId=697535',\n",
       "  'detail_link': 'https://comic.naver.com/webtoon/detail.nhn?titleId=697535&no=161'},\n",
       " {'title': '불발소년',\n",
       "  'link': 'https://comic.naver.com/webtoon/list.nhn?titleId=743721',\n",
       "  'detail_link': 'https://comic.naver.com/webtoon/detail.nhn?titleId=743721&no=15'}]"
      ]
     },
     "execution_count": 13,
     "metadata": {},
     "output_type": "execute_result"
    }
   ],
   "source": [
    "from urllib.parse import urljoin\n",
    "\n",
    "main_url = \"https://comic.naver.com/index.nhn\"\n",
    "res = requests.get(main_url)\n",
    "html = res.text\n",
    "soup = BeautifulSoup(html, 'html.parser')\n",
    "print(len(soup.select(\"#genreRecommand h6 a\")))\n",
    "\n",
    "# title\n",
    "#genreRecommand > li:nth-child(2) > div.genreRecomInfo2 > h6 > a\n",
    "# url\n",
    "#genreRecommand > li:nth-child(2) > div.genreRecomInfo2 > p > a\n",
    "webtoon_list = []\n",
    "for div_tag in soup.select(\"#genreRecommand li .genreRecomInfo2\"):\n",
    "    webtoon_dict = {}\n",
    "    title_a_tag = div_tag.select(\"h6 a\")\n",
    "    for a_tag in title_a_tag:\n",
    "        webtoon_dict['title'] = a_tag.text.strip()\n",
    "        webtoon_dict['link'] = urljoin(main_url,a_tag['href'])\n",
    "        \n",
    "    url_a_tag = div_tag.select(\"p a\")\n",
    "    for a_tag in url_a_tag:\n",
    "        webtoon_dict['detail_link'] = urljoin(main_url,a_tag['href'])\n",
    "    webtoon_list.append(webtoon_dict)\n",
    "    \n",
    "webtoon_list"
   ]
  },
  {
   "cell_type": "markdown",
   "metadata": {},
   "source": [
    "#### 메인페이지 추천 웹툰 특정화 download"
   ]
  },
  {
   "cell_type": "code",
   "execution_count": 14,
   "metadata": {},
   "outputs": [
    {
     "name": "stdout",
     "output_type": "stream",
     "text": [
      "----- 0 패밀리 사이즈 https://comic.naver.com/webtoon/detail.nhn?titleId=626906&no=603\n",
      "Writing to 패밀리 사이즈0.jpg (163939 bytes)\n",
      "Writing to 패밀리 사이즈1.jpg (179510 bytes)\n",
      "Writing to 패밀리 사이즈2.jpg (122994 bytes)\n",
      "Writing to 패밀리 사이즈3.jpg (195742 bytes)\n",
      "Writing to 패밀리 사이즈4.jpg (80734 bytes)\n",
      "Writing to 패밀리 사이즈5.jpg (189071 bytes)\n",
      "Writing to 패밀리 사이즈6.jpg (217027 bytes)\n",
      "Writing to 패밀리 사이즈7.jpg (175117 bytes)\n",
      "Writing to 패밀리 사이즈8.jpg (185807 bytes)\n",
      "Writing to 패밀리 사이즈9.jpg (201282 bytes)\n",
      "Writing to 패밀리 사이즈10.jpg (133517 bytes)\n",
      "Writing to 패밀리 사이즈11.jpg (166202 bytes)\n",
      "Writing to 패밀리 사이즈12.jpg (205594 bytes)\n",
      "Writing to 패밀리 사이즈13.jpg (194916 bytes)\n"
     ]
    }
   ],
   "source": [
    "for idx, webtoon in enumerate(webtoon_list[:1]):\n",
    "    print('-----',idx, webtoon['title'], webtoon['detail_link'])\n",
    "    write_image(webtoon['title'], webtoon['detail_link']) # write_image() 함수 호출"
   ]
  }
 ],
 "metadata": {
  "kernelspec": {
   "display_name": "Python 3",
   "language": "python",
   "name": "python3"
  },
  "language_info": {
   "codemirror_mode": {
    "name": "ipython",
    "version": 3
   },
   "file_extension": ".py",
   "mimetype": "text/x-python",
   "name": "python",
   "nbconvert_exporter": "python",
   "pygments_lexer": "ipython3",
   "version": "3.7.8"
  }
 },
 "nbformat": 4,
 "nbformat_minor": 2
}
