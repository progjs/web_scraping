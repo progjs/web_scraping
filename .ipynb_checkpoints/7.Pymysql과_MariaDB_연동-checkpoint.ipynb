{
 "cells": [
  {
   "cell_type": "markdown",
   "metadata": {},
   "source": [
    "### Pymysql과 MariaDB 연동\n",
    "* pymysql만 사용하기\n",
    "\n",
    "* java \n",
    "       - JDBC(java database connectivity), MyBatis 프레임워크\n",
    "       - JPA(Java Persistence API)\n",
    "        * JPA: query문 사용하지 않고 객체로써 data를 다룬다\n",
    "          ex) django에서 class를 만들면 그에 mapping되는 table을 DB에 자동으로 생성해준다.\n",
    "        * MyBatis: query문을 사용해서 data를 handling\n",
    "\n",
    "* python \n",
    "         - pymysql : <https://github.com/PyMySQL/PyMySQL> connect -> cursor -> commit\n",
    "         - sqlalchemy, cx_Oracle\n"
   ]
  },
  {
   "cell_type": "code",
   "execution_count": 5,
   "metadata": {},
   "outputs": [
    {
     "name": "stdout",
     "output_type": "stream",
     "text": [
      "Name: PyMySQL\n",
      "Version: 0.10.0\n",
      "Summary: Pure Python MySQL Driver\n",
      "Home-page: https://github.com/PyMySQL/PyMySQL/\n",
      "Author: yutaka.matsubara\n",
      "Author-email: yutaka.matsubara@gmail.com\n",
      "License: \"MIT\"\n",
      "Location: c:\\anaconda3\\lib\\site-packages\n",
      "Requires: \n",
      "Required-by: \n"
     ]
    }
   ],
   "source": [
    "!pip show pymysql"
   ]
  },
  {
   "cell_type": "markdown",
   "metadata": {},
   "source": [
    "#### product table 생성"
   ]
  },
  {
   "cell_type": "code",
   "execution_count": 6,
   "metadata": {},
   "outputs": [],
   "source": [
    "sql = \"\"\"\n",
    "CREATE TABLE product (\n",
    "    id INT UNSIGNED NOT NULL AUTO_INCREMENT,\n",
    "    name VARCHAR(20) NOT NULL,\n",
    "    model_num VARCHAR(10) NOT NULL,\n",
    "    model_type VARCHAR(10) NOT NULL,\n",
    "    PRIMARY KEY(id)\n",
    ");\n",
    "\"\"\""
   ]
  },
  {
   "cell_type": "code",
   "execution_count": 7,
   "metadata": {},
   "outputs": [],
   "source": [
    "import pymysql\n",
    "\n",
    "db = pymysql.connect(host='localhost', port=3306, db='python_db', user='python', passwd='python', charset='utf8')\n",
    "\n",
    "cursor = db.cursor()\n",
    "cursor.execute(sql)\n",
    "db.commit()"
   ]
  },
  {
   "cell_type": "code",
   "execution_count": 8,
   "metadata": {},
   "outputs": [
    {
     "data": {
      "text/plain": [
       "6"
      ]
     },
     "execution_count": 8,
     "metadata": {},
     "output_type": "execute_result"
    }
   ],
   "source": [
    "cursor.execute('drop table product;')\n",
    "cursor.execute('show tables;')"
   ]
  },
  {
   "cell_type": "code",
   "execution_count": 9,
   "metadata": {},
   "outputs": [],
   "source": [
    "# cursor를 열었으면 query문을 보내고 닫아줘야한다.\n",
    "db.close()"
   ]
  },
  {
   "cell_type": "code",
   "execution_count": 11,
   "metadata": {},
   "outputs": [
    {
     "name": "stdout",
     "output_type": "stream",
     "text": [
      "INSERT INTO product (name, model_num, model_type) VALUES ('S2010', '7700', 'Phone')\n",
      "INSERT INTO product (name, model_num, model_type) VALUES ('S2011', '7700', 'Phone')\n",
      "INSERT INTO product (name, model_num, model_type) VALUES ('S2012', '7700', 'Phone')\n",
      "INSERT INTO product (name, model_num, model_type) VALUES ('S2013', '7700', 'Phone')\n",
      "INSERT INTO product (name, model_num, model_type) VALUES ('S2014', '7700', 'Phone')\n",
      "INSERT INTO product (name, model_num, model_type) VALUES ('S2015', '7700', 'Phone')\n",
      "INSERT INTO product (name, model_num, model_type) VALUES ('S2016', '7700', 'Phone')\n",
      "INSERT INTO product (name, model_num, model_type) VALUES ('S2017', '7700', 'Phone')\n",
      "INSERT INTO product (name, model_num, model_type) VALUES ('S2018', '7700', 'Phone')\n",
      "INSERT INTO product (name, model_num, model_type) VALUES ('S2019', '7700', 'Phone')\n",
      "10\n"
     ]
    }
   ],
   "source": [
    "import pymysql\n",
    "\n",
    "db = pymysql.connect(host='localhost', port=3306, db='python_db', user='python', passwd='python', charset='utf8')\n",
    "\n",
    "try:\n",
    "    with db.cursor() as cursor:\n",
    "#         cursor.execute('drop table product;')\n",
    "        cursor.execute(sql)\n",
    "        db.commit()\n",
    "        \n",
    "        for num in range(10,20):\n",
    "            name = 'S20'+ str(num)\n",
    "            ins_sql = \"INSERT INTO product (name, model_num, model_type) VALUES ('%s', '%s', '%s')\" %(name, '7700', 'Phone')\n",
    "#             \"insert into 'product' ('name', 'model_num', 'model_type') values (%s %s %s)\" %(name, '7700', 'Phone')\n",
    "#             cursor.execute(ins_sql, (name, '7700', 'Phone'))\n",
    "#             ins_sql = \"insert into product (name, model_num, model_type) values ('\" + name + \"','7700', 'Phone')\"\n",
    "            cursor.execute(ins_sql)\n",
    "            print(ins_sql)\n",
    "            \n",
    "        db.commit()\n",
    "        print(cursor.lastrowid)\n",
    "finally:\n",
    "    db.close()\n"
   ]
  },
  {
   "cell_type": "code",
   "execution_count": 12,
   "metadata": {},
   "outputs": [
    {
     "name": "stdout",
     "output_type": "stream",
     "text": [
      "<class 'tuple'> (3, 'S2012', '7700', 'Phone')\n",
      "\n",
      "<class 'tuple'>\n",
      "1 S2010 7700 핸드폰\n",
      "2 S2011 7700 핸드폰\n",
      "3 S2012 7700 핸드폰\n",
      "4 S2013 7700 핸드폰\n",
      "5 S2014 7700 핸드폰\n",
      "6 S2015 7700 핸드폰\n",
      "7 S2016 7700 Phone\n",
      "8 S2017 7700 Phone\n",
      "9 S2018 7700 Phone\n",
      "10 S2019 7700 Phone\n"
     ]
    }
   ],
   "source": [
    "import pymysql\n",
    "\n",
    "db = pymysql.connect(host='localhost', port=3306, db='python_db', user='python', passwd='python', charset='utf8')\n",
    "\n",
    "try:\n",
    "    #select, update\n",
    "    with db.cursor() as cursor:\n",
    "        # 3번째 tuple 검색\n",
    "        cursor.execute('select * from product where id=3')\n",
    "        result = cursor.fetchone()\n",
    "        print(type(result), result)\n",
    "        \n",
    "        # update\n",
    "        upd_sql = \"update product set model_type='%s' where name between 'S2010' and 'S2015'\" % '핸드폰' \n",
    "        cursor.execute(upd_sql)\n",
    "        db.commit()\n",
    "        print()\n",
    "        \n",
    "        cursor.execute('select * from product')\n",
    "        result_list = cursor.fetchall() # cursor()의 값을 가져온다.\n",
    "        print(type(result_list))\n",
    "        for row in result_list:\n",
    "            print(row[0],row[1],row[2], row[3])\n",
    "finally:\n",
    "    db.close()"
   ]
  },
  {
   "cell_type": "code",
   "execution_count": 13,
   "metadata": {},
   "outputs": [
    {
     "name": "stdout",
     "output_type": "stream",
     "text": [
      "<class 'tuple'>\n",
      "Phone 4\n",
      "핸드폰 6\n"
     ]
    }
   ],
   "source": [
    "import pymysql\n",
    "\n",
    "db = pymysql.connect(host='localhost', port=3306, db='python_db', user='python', passwd='python', charset='utf8')\n",
    "\n",
    "try:\n",
    "    #select group by\n",
    "    with db.cursor() as cursor:\n",
    "        cursor.execute(\"select model_type, count(*) from product group by model_type\" )\n",
    "        result_list = cursor.fetchall()\n",
    "        print(type(result_list))\n",
    "        for row in result_list:\n",
    "            print(row[0],row[1])\n",
    "finally:\n",
    "    db.close()"
   ]
  },
  {
   "cell_type": "code",
   "execution_count": null,
   "metadata": {},
   "outputs": [],
   "source": []
  }
 ],
 "metadata": {
  "kernelspec": {
   "display_name": "Python 3",
   "language": "python",
   "name": "python3"
  },
  "language_info": {
   "codemirror_mode": {
    "name": "ipython",
    "version": 3
   },
   "file_extension": ".py",
   "mimetype": "text/x-python",
   "name": "python",
   "nbconvert_exporter": "python",
   "pygments_lexer": "ipython3",
   "version": "3.7.0"
  }
 },
 "nbformat": 4,
 "nbformat_minor": 2
}
