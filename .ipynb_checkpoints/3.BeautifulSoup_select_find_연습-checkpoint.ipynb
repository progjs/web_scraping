{
 "cells": [
  {
   "cell_type": "code",
   "execution_count": null,
   "metadata": {},
   "outputs": [],
   "source": []
  },
  {
   "cell_type": "code",
   "execution_count": 82,
   "metadata": {},
   "outputs": [],
   "source": [
    "book_html=\"\"\"\n",
    "<ul id=\"bible\">\n",
    "<li id=\"ge\" class=\"first\">\n",
    "<ul class=\"second\">\n",
    "<div>\n",
    "<li><span>aa<span></li>\n",
    "<li>bb</li>\n",
    "<div>\n",
    "</ul>\n",
    "</li>\n",
    "<li id=\"ex\" class=\"first\">나의첫사회생활</li>\n",
    "<li id=\"le\" class=\"second\">Still Me</li>\n",
    "<li id=\"nu\" class=\"second\">화염과 분노 : 도널드 트럼프의 백악관 뒷이야기</li>\n",
    "<li id=\"de\">매일 좋을 수만은 없는 여행을 한다</li>\n",
    "</ul>\n",
    "\"\"\"\n",
    "\n",
    "from bs4 import BeautifulSoup\n",
    "\n",
    "soup = BeautifulSoup(book_html, 'html.parser')\n",
    "# print(soup.select('ul li'))"
   ]
  },
  {
   "cell_type": "code",
   "execution_count": 51,
   "metadata": {},
   "outputs": [
    {
     "name": "stdout",
     "output_type": "stream",
     "text": [
      "<li class=\"first\" id=\"ge\">\n",
      "<ul class=\"second\">\n",
      "<li>aa</li>\n",
      "<li>bb</li>\n",
      "</ul>\n",
      "</li>\n",
      "<li>aa</li>\n",
      "<li>bb</li>\n",
      "<li class=\"first\" id=\"ex\">나의첫사회생활</li>\n",
      "<li class=\"second\" id=\"le\">Still Me</li>\n",
      "<li class=\"second\" id=\"nu\">화염과 분노 : 도널드 트럼프의 백악관 뒷이야기</li>\n",
      "<li id=\"de\">매일 좋을 수만은 없는 여행을 한다</li>\n"
     ]
    }
   ],
   "source": [
    "for li_tag in soup.select('ul li'):\n",
    "    print(li_tag)"
   ]
  },
  {
   "cell_type": "code",
   "execution_count": 52,
   "metadata": {},
   "outputs": [
    {
     "name": "stdout",
     "output_type": "stream",
     "text": [
      "<class 'list'> [<li class=\"first\" id=\"ge\">\n",
      "<ul class=\"second\">\n",
      "<li>aa</li>\n",
      "<li>bb</li>\n",
      "</ul>\n",
      "</li>]\n",
      "\n",
      "<class 'bs4.element.Tag'> <li class=\"first\" id=\"ge\">\n",
      "<ul class=\"second\">\n",
      "<li>aa</li>\n",
      "<li>bb</li>\n",
      "</ul>\n",
      "</li>\n",
      "\n",
      "aa\n",
      "bb\n",
      "aa\n",
      "bb\n"
     ]
    }
   ],
   "source": [
    "# id가 ge인 tag 가져오기\n",
    "# select, select_one\n",
    "print(type(soup.select('#ge')), soup.select('#ge')) #<class 'list'>\n",
    "print()\n",
    "print(type(soup.select_one('#ge')), soup.select_one('#ge')) #<class 'bs4.element.Tag'>\n",
    "print()\n",
    "\n",
    "# print(soup.select('#ge').text) # list라서 안된다\n",
    "print(soup.select('#ge')[0].text.strip()) \n",
    "print(soup.select_one('#ge').text.strip()) # type=tag라서 가능"
   ]
  },
  {
   "cell_type": "code",
   "execution_count": 53,
   "metadata": {},
   "outputs": [
    {
     "name": "stdout",
     "output_type": "stream",
     "text": [
      "[<ul class=\"second\">\n",
      "<li>aa</li>\n",
      "<li>bb</li>\n",
      "</ul>, <li class=\"second\" id=\"le\">Still Me</li>, <li class=\"second\" id=\"nu\">화염과 분노 : 도널드 트럼프의 백악관 뒷이야기</li>]\n",
      "\n",
      "[<ul class=\"second\">\n",
      "<li>aa</li>\n",
      "<li>bb</li>\n",
      "</ul>]\n",
      "\n",
      "<ul class=\"second\">\n",
      "<li>aa</li>\n",
      "<li>bb</li>\n",
      "</ul>\n"
     ]
    }
   ],
   "source": [
    "# class명이 second\n",
    "print(soup.select('.second'))\n",
    "print()\n",
    "print(soup.select('li .second')) # 결과가 list\n",
    "print()\n",
    "print(soup.select_one('li .second'))"
   ]
  },
  {
   "cell_type": "code",
   "execution_count": 54,
   "metadata": {},
   "outputs": [
    {
     "name": "stdout",
     "output_type": "stream",
     "text": [
      "<class 'bs4.element.ResultSet'> [<li class=\"first\" id=\"ge\">\n",
      "<ul class=\"second\">\n",
      "<li>aa</li>\n",
      "<li>bb</li>\n",
      "</ul>\n",
      "</li>, <li>aa</li>, <li>bb</li>, <li class=\"first\" id=\"ex\">나의첫사회생활</li>, <li class=\"second\" id=\"le\">Still Me</li>, <li class=\"second\" id=\"nu\">화염과 분노 : 도널드 트럼프의 백악관 뒷이야기</li>, <li id=\"de\">매일 좋을 수만은 없는 여행을 한다</li>]\n",
      "\n",
      "<class 'bs4.element.Tag'> <li class=\"first\" id=\"ge\">\n",
      "<ul class=\"second\">\n",
      "<li>aa</li>\n",
      "<li>bb</li>\n",
      "</ul>\n",
      "</li>\n"
     ]
    }
   ],
   "source": [
    "# find()와 find_all()\n",
    "# find() == select_one()    find_all() == select()\n",
    "print(type(soup.find_all('li')), soup.find_all('li')) #<class 'bs4.element.ResultSet'>\n",
    "print()\n",
    "print(type(soup.find('li')), soup.find('li')) #<class 'bs4.element.Tag'>"
   ]
  },
  {
   "cell_type": "code",
   "execution_count": 57,
   "metadata": {},
   "outputs": [
    {
     "name": "stdout",
     "output_type": "stream",
     "text": [
      "<class 'bs4.element.ResultSet'> [<li class=\"second\" id=\"le\">Still Me</li>, <li class=\"second\" id=\"nu\">화염과 분노 : 도널드 트럼프의 백악관 뒷이야기</li>]\n",
      "\n",
      "<class 'bs4.element.Tag'> <li class=\"second\" id=\"le\">Still Me</li>\n",
      "Still Me\n",
      "Still Me\n",
      "Still Me\n",
      "Still Me\n"
     ]
    }
   ],
   "source": [
    "# li .second\n",
    "print(type(soup.find_all('li',attrs={'class':'second'})), soup.find_all('li',attrs={'class':'second'})) \n",
    "print()\n",
    "print(type(soup.find('li',attrs={'class':'second'})), soup.find('li',attrs={'class':'second'}))\n",
    "\n",
    "print(soup.find('li',attrs={'class':'second'}).text)\n",
    "print(soup.find('li',attrs={'class':'second'}).string)\n",
    "\n",
    "print(soup.select_one('li.second').text)\n",
    "print(soup.select_one('li.second').string)"
   ]
  },
  {
   "cell_type": "code",
   "execution_count": 78,
   "metadata": {},
   "outputs": [],
   "source": [
    "# css selector를 입력받아서 결과를 반환하는 lambda 함수 정의\n",
    "sel = lambda ex: print(soup.select_one(ex).string)"
   ]
  },
  {
   "cell_type": "code",
   "execution_count": 90,
   "metadata": {},
   "outputs": [
    {
     "name": "stdout",
     "output_type": "stream",
     "text": [
      "Still Me\n",
      "나의첫사회생활\n",
      "나의첫사회생활\n",
      "Still Me\n",
      "Still Me\n",
      "None\n",
      "나의첫사회생활\n",
      "Still Me\n"
     ]
    }
   ],
   "source": [
    "sel('li.second')\n",
    "sel('li#ex')\n",
    "sel('ul #ex')\n",
    "sel('ul li#le')\n",
    "sel('ul > li#le') # >는 바로 아래 child tag값만 추출\n",
    "sel('.second li') # >없으면 select나 find_all일때 모든 child 추출\n",
    "sel(\"li[id='ex']\")\n",
    "sel('li:nth-of-type(5)')"
   ]
  },
  {
   "cell_type": "code",
   "execution_count": 84,
   "metadata": {},
   "outputs": [
    {
     "name": "stdout",
     "output_type": "stream",
     "text": [
      "[<li><span>aa<span></span></span></li>, <li>bb</li>]\n",
      "\n",
      "[]\n"
     ]
    }
   ],
   "source": [
    "print(soup.select('ul.second li')) # >없으면 select나 find_all일때 모든 child 추출\n",
    "print()\n",
    "print(soup.select('ul.second > li')) # >는 바로 아래 child tag값만 추출"
   ]
  },
  {
   "cell_type": "code",
   "execution_count": 91,
   "metadata": {},
   "outputs": [
    {
     "name": "stdout",
     "output_type": "stream",
     "text": [
      "7 [<li class=\"first\" id=\"ge\">\n",
      "<ul class=\"second\">\n",
      "<div>\n",
      "<li><span>aa<span></span></span></li>\n",
      "<li>bb</li>\n",
      "<div>\n",
      "</div></div></ul>\n",
      "</li>, <li><span>aa<span></span></span></li>, <li>bb</li>, <li class=\"first\" id=\"ex\">나의첫사회생활</li>, <li class=\"second\" id=\"le\">Still Me</li>, <li class=\"second\" id=\"nu\">화염과 분노 : 도널드 트럼프의 백악관 뒷이야기</li>, <li id=\"de\">매일 좋을 수만은 없는 여행을 한다</li>]\n",
      "Still Me\n"
     ]
    }
   ],
   "source": [
    "print(len(soup.select('li')), soup.select('li'))\n",
    "sel('li:nth-of-type(5)')"
   ]
  },
  {
   "cell_type": "markdown",
   "metadata": {},
   "source": [
    "### css selector 연습"
   ]
  },
  {
   "cell_type": "code",
   "execution_count": 98,
   "metadata": {},
   "outputs": [
    {
     "data": {
      "text/plain": [
       "\n",
       "<html>\n",
       "<body>\n",
       "<div id=\"main-goods\" role=\"page\">\n",
       "<h1>과일과 채소</h1>\n",
       "<ul id=\"fr-list\">\n",
       "<li class=\"red green\" data-lo=\"ko\">사과</li>\n",
       "<li class=\"purple\" data-lo=\"us\">포도</li>\n",
       "<li class=\"yellow\" data-lo=\"us\">레몬</li>\n",
       "<li class=\"yellow\" data-lo=\"ko\">오렌지</li>\n",
       "</ul>\n",
       "<ul id=\"ve-list\">\n",
       "<li class=\"white green\" data-lo=\"ko\">무</li>\n",
       "<li class=\"red green\" data-lo=\"us\">파프리카</li>\n",
       "<li class=\"black\" data-lo=\"ko\">가지</li>\n",
       "<li class=\"black\" data-lo=\"us\">아보카도</li>\n",
       "<li class=\"white\" data-lo=\"cn\">연근</li>\n",
       "</ul>\n",
       "</div>\n",
       "<body>\n",
       "</body></body></html>"
      ]
     },
     "execution_count": 98,
     "metadata": {},
     "output_type": "execute_result"
    }
   ],
   "source": [
    "html=\"\"\"\n",
    "<html>\n",
    "<body>\n",
    "<div id=\"main-goods\" role=\"page\">\n",
    "<h1>과일과 채소</h1>\n",
    "<ul id=\"fr-list\">\n",
    "<li class=\"red green\" data-lo=\"ko\">사과</li>\n",
    "<li class=\"purple\" data-lo=\"us\">포도</li>\n",
    "<li class=\"yellow\" data-lo=\"us\">레몬</li>\n",
    "<li class=\"yellow\" data-lo=\"ko\">오렌지</li>\n",
    "</ul>\n",
    "<ul id=\"ve-list\">\n",
    "<li class=\"white green\" data-lo=\"ko\">무</li>\n",
    "<li class=\"red green\" data-lo=\"us\">파프리카</li>\n",
    "<li class=\"black\" data-lo=\"ko\">가지</li>\n",
    "<li class=\"black\" data-lo=\"us\">아보카도</li>\n",
    "<li class=\"white\" data-lo=\"cn\">연근</li>\n",
    "</ul>\n",
    "</div>\n",
    "<body>\n",
    "</html>\n",
    "\"\"\"\n",
    "\n",
    "from bs4 import BeautifulSoup\n",
    "\n",
    "soup = BeautifulSoup(html, 'html.parser')\n",
    "soup"
   ]
  },
  {
   "cell_type": "code",
   "execution_count": 150,
   "metadata": {},
   "outputs": [
    {
     "name": "stdout",
     "output_type": "stream",
     "text": [
      "채소: ['무', '파프리카', '가지', '아보카도', '연근']\n",
      "과일: ['사과', '포도', '레몬', '오렌지']\n",
      "국산 채소: ['무', '가지']\n",
      "미국산 과일: ['포도', '레몬']\n",
      "노란 과일: ['레몬', '오렌지']\n",
      "까만 채소: ['가지', '아보카도']\n",
      "red green 식재료: ['사과', '파프리카']\n",
      "8번째 식재료: 아보카도\n",
      "미국산: ['포도', '레몬', '파프리카', '아보카도']\n"
     ]
    }
   ],
   "source": [
    "# 채소 이름 가져오기\n",
    "print('채소: ', end = '')\n",
    "veg_tags = soup.select('#ve-list li')\n",
    "\n",
    "veg_name = []\n",
    "for veg_tag in veg_tags:\n",
    "    veg_name.append(veg_tag.text)\n",
    "print(veg_name)\n",
    "\n",
    "# 과일 이름 가져오기\n",
    "print('과일: ', end = '')\n",
    "fr_tags = soup.select('#fr-list li')\n",
    "\n",
    "fr_name = []\n",
    "for fr_tag in fr_tags:\n",
    "    fr_name.append(fr_tag.text)\n",
    "print(fr_name)\n",
    "\n",
    "# 채소 중에서 'ko' 국산채소만 가져오기\n",
    "print('국산 채소: ', end = '')\n",
    "korean_veg_tag = soup.select('#ve-list li[data-lo=\"ko\"]')\n",
    "\n",
    "korean_veg = []\n",
    "for lo_tag in korean_veg_tag:\n",
    "    korean_veg.append(lo_tag.text)\n",
    "print(korean_veg)\n",
    "\n",
    "# 과일 중에서 'us' 미국과일만 가져오기\n",
    "print('미국산 과일: ', end = '')\n",
    "us_fr_tag = soup.select('#fr-list li[data-lo=\"us\"]')\n",
    "\n",
    "us_fruit = []\n",
    "for lo_tag in us_fr_tag:\n",
    "    us_fruit.append(lo_tag.text)\n",
    "print(us_fruit)\n",
    "\n",
    "# 과일 중에서 노랑만 가져오기\n",
    "print('노란 과일: ', end = '')\n",
    "li_tag_list = soup.select('#fr-list li.yellow')\n",
    "\n",
    "yellow_fr = []\n",
    "for li_tag in li_tag_list:\n",
    "    yellow_fr.append(li_tag.string)\n",
    "print(yellow_fr)\n",
    "\n",
    "# 채소 중에서 black만 가져오기\n",
    "print('까만 채소: ', end = '')\n",
    "li_tag_list = soup.select('li.black')\n",
    "\n",
    "black_veg = []\n",
    "for li_tag in li_tag_list:\n",
    "    black_veg.append(li_tag.string)\n",
    "print(black_veg)\n",
    "\n",
    "# 과일과 채소중에서 red green만 가져오기\n",
    "print('red green 식재료: ', end = '')\n",
    "li_tag_list = soup.select('li[class=\"red green\"]')\n",
    "\n",
    "red_green = []\n",
    "for li_tag in li_tag_list:\n",
    "    red_green.append(li_tag.string)\n",
    "print(red_green)\n",
    "\n",
    "# 8번째 li 가져오기\n",
    "print('8번째 식재료: ', end = '')\n",
    "li_tag8 = soup.select_one('li:nth-of-type(8)').text\n",
    "print(li_tag8)\n",
    "\n",
    "# 전체에서 us 가져오기\n",
    "print('미국산: ', end = '')\n",
    "li_tag_list = soup.select('li[data-lo=\"us\"]')\n",
    "\n",
    "us_list = []\n",
    "for li_tag in li_tag_list:\n",
    "    us_list.append(li_tag.text)\n",
    "print(us_list)"
   ]
  }
 ],
 "metadata": {
  "kernelspec": {
   "display_name": "Python 3",
   "language": "python",
   "name": "python3"
  },
  "language_info": {
   "codemirror_mode": {
    "name": "ipython",
    "version": 3
   },
   "file_extension": ".py",
   "mimetype": "text/x-python",
   "name": "python",
   "nbconvert_exporter": "python",
   "pygments_lexer": "ipython3",
   "version": "3.7.0"
  }
 },
 "nbformat": 4,
 "nbformat_minor": 2
}
